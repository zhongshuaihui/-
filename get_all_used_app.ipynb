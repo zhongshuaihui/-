{
 "cells": [
  {
   "cell_type": "code",
   "execution_count": 1,
   "metadata": {},
   "outputs": [],
   "source": [
    "import pandas as pd\n",
    "import numpy as np\n",
    "import lightgbm as lgb"
   ]
  },
  {
   "cell_type": "code",
   "execution_count": 2,
   "metadata": {},
   "outputs": [],
   "source": [
    "pd.set_option('display.max_columns',None)"
   ]
  },
  {
   "cell_type": "code",
   "execution_count": 3,
   "metadata": {},
   "outputs": [],
   "source": [
    "#读取数据\n",
    "user_app_actived = pd.read_csv(\"data/user_app_actived.csv\", names=['uid','appId'])\n",
    "#user_app_usage = pd.read_csv(\"data/user_app_usage.csv\")\n",
    "app_info = pd.read_csv(\"data/app_info.csv\", names=['appId', 'category'])"
   ]
  },
  {
   "cell_type": "code",
   "execution_count": 4,
   "metadata": {},
   "outputs": [
    {
     "name": "stdout",
     "output_type": "stream",
     "text": [
      "          appId             category\n",
      "0            \\N                   其他\n",
      "1     a00100007              便捷生活,商务\n",
      "2     a00100109                   其他\n",
      "3     a00100361                   教育\n",
      "4     a00100402                 经营策略\n",
      "5     a00100412                 休闲益智\n",
      "6     a00100436                   其他\n",
      "7     a00100551              实用工具,教育\n",
      "8     a00100587                 社交通讯\n",
      "9     a00100609                 实用工具\n",
      "10    a00100725            实用工具,新闻阅读\n",
      "11    a00100807                 新闻阅读\n",
      "12    a00100823            实用工具,新闻阅读\n",
      "13    a00100924            实用工具,新闻阅读\n",
      "14    a00101036            实用工具,新闻阅读\n",
      "15     a0010117                   教育\n",
      "16    a00101191                 角色扮演\n",
      "17    a00101205            休闲益智,实用工具\n",
      "18    a00101266                 体育竞速\n",
      "19    a00101296                 实用工具\n",
      "20    a00101298                 经营策略\n",
      "21    a00101305                 实用工具\n",
      "22    a00101316                 动作射击\n",
      "23    a00101329            动作射击,实用工具\n",
      "24    a00101331  体育竞速,动作射击,实用工具,经营策略\n",
      "25    a00101339                 角色扮演\n",
      "26    a00101347            休闲益智,实用工具\n",
      "27    a00101378                 经营策略\n",
      "28    a00101392                 经营策略\n",
      "29    a00101522                 实用工具\n",
      "...         ...                  ...\n",
      "9371    a009942            实用工具,影音娱乐\n",
      "9372   a0099425                 棋牌桌游\n",
      "9373   a0099435                 棋牌桌游\n",
      "9374   a0099453                 棋牌桌游\n",
      "9375   a0099465                   教育\n",
      "9376   a0099476            便捷生活,影音娱乐\n",
      "9377   a0099540            实用工具,拍摄美化\n",
      "9378   a0099552            实用工具,社交通讯\n",
      "9379   a0099553                 实用工具\n",
      "9380   a0099559            实用工具,影音娱乐\n",
      "9381   a0099562                 实用工具\n",
      "9382   a0099564       休闲益智,社交通讯,经营策略\n",
      "9383   a0099565                 社交通讯\n",
      "9384   a0099567                 实用工具\n",
      "9385   a0099570            影音娱乐,社交通讯\n",
      "9386   a0099582                 社交通讯\n",
      "9387   a0099607              商务,实用工具\n",
      "9388   a0099608                 社交通讯\n",
      "9389   a0099618                   其他\n",
      "9390   a0099633                   其他\n",
      "9391   a0099706            便捷生活,实用工具\n",
      "9392   a0099760                   教育\n",
      "9393   a0099763                 金融理财\n",
      "9394   a0099764                 金融理财\n",
      "9395   a0099813                 实用工具\n",
      "9396   a0099815                 实用工具\n",
      "9397   a0099841                   其他\n",
      "9398   a0099845                   其他\n",
      "9399   a0099888                   儿童\n",
      "9400   a0099934            出行导航,实用工具\n",
      "\n",
      "[9401 rows x 2 columns]\n"
     ]
    }
   ],
   "source": [
    "user_app_Id_list = []\n",
    "for i in range(2512500):\n",
    "    temp = np.array(user_app_actived['appId'][i:i+1])\n",
    "    temp = temp.tolist()\n",
    "    temp_list = temp[0].split('#')#某个用户的所有下载的app\n",
    "    for item in temp_list:\n",
    "        if item not in user_app_Id_list:\n",
    "            user_app_Id_list.append(item)\n",
    "    \n",
    "df = pd.DataFrame(user_app_Id_list)\n",
    "df.columns = ['appId']\n",
    "\n",
    "df = pd.merge(df,app_info,how='left')\n",
    "df.fillna('其他',inplace=True)\n",
    "# print(df)\n",
    "\n",
    "df1 = df.groupby(by='appId').apply(lambda x:','.join(x['category'])).reset_index()\n",
    "df1.columns = ['appId','category']\n",
    "print(df1)\n",
    "df1.to_csv('data/user_app_Id_list.csv',index=0)"
   ]
  },
  {
   "cell_type": "code",
   "execution_count": null,
   "metadata": {},
   "outputs": [],
   "source": []
  }
 ],
 "metadata": {
  "kernelspec": {
   "display_name": "Python 3",
   "language": "python",
   "name": "python3"
  },
  "language_info": {
   "codemirror_mode": {
    "name": "ipython",
    "version": 3
   },
   "file_extension": ".py",
   "mimetype": "text/x-python",
   "name": "python",
   "nbconvert_exporter": "python",
   "pygments_lexer": "ipython3",
   "version": "3.7.3"
  }
 },
 "nbformat": 4,
 "nbformat_minor": 2
}
